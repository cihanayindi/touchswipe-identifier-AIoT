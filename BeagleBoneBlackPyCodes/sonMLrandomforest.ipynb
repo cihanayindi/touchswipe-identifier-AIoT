{
 "cells": [
  {
   "cell_type": "markdown",
   "id": "852f1845",
   "metadata": {},
   "source": [
    "# Swipe_Identifier - Random Forest Modeli"
   ]
  },
  {
   "cell_type": "code",
   "execution_count": 9,
   "id": "3e63a9f1",
   "metadata": {},
   "outputs": [
    {
     "name": "stdout",
     "output_type": "stream",
     "text": [
      "Kütüphaneler başarıyla yüklendi.\n"
     ]
    }
   ],
   "source": [
    "import pandas as pd\n",
    "import numpy as np\n",
    "import matplotlib.pyplot as plt\n",
    "import seaborn as sns\n",
    "\n",
    "from sklearn.model_selection import train_test_split\n",
    "from sklearn.preprocessing import StandardScaler, LabelEncoder\n",
    "from sklearn.metrics import accuracy_score, classification_report, confusion_matrix\n",
    "\n",
    "from sklearn.ensemble import RandomForestClassifier # Random Forest kütüphanesi\n",
    "\n",
    "# Görselleştirme ayarları (isteğe bağlı ama güzel görünür)\n",
    "%matplotlib inline\n",
    "sns.set_style('whitegrid')\n",
    "plt.rcParams['figure.figsize'] = (10, 6)\n",
    "\n",
    "print(\"Kütüphaneler başarıyla yüklendi.\")"
   ]
  },
  {
   "cell_type": "markdown",
   "id": "10162d4f",
   "metadata": {},
   "source": [
    "## 1. Veri Yükleme ve İlk İnceleme"
   ]
  },
  {
   "cell_type": "code",
   "execution_count": 10,
   "id": "ac6ec38d",
   "metadata": {},
   "outputs": [
    {
     "name": "stdout",
     "output_type": "stream",
     "text": [
      "Veriseti başarıyla yüklendi ve sütun isimleri atandı.\n",
      "\n",
      "Veri setinin ilk 5 satırı:\n",
      "  user_trial  timestamp  rawT9  rawT8  rawT7  rawT0  rawT2  rawT3  rawT6  \\\n",
      "0    User0.0      32626     13     79     73     64     65     66     73   \n",
      "1    User0.0      32726     20     76     73     64     63     64     72   \n",
      "2    User0.0      32826     84     13     71     63     61     63     70   \n",
      "3    User0.0      32926     86     14     72     63     61     65     73   \n",
      "4    User0.0      33026     83     78     17     63     61     63     71   \n",
      "\n",
      "   rawT5  rawT4  durationT9  durationT8  durationT7  durationT0  durationT2  \\\n",
      "0     71     73         113           0           0           0           0   \n",
      "1     69     73         213           0           0           0           0   \n",
      "2     69     72           0          43           0           0           0   \n",
      "3     73     76           0         143           0           0           0   \n",
      "4     72     76           0           0          23           0           0   \n",
      "\n",
      "   durationT3  durationT6  durationT5  durationT4  \n",
      "0           0           0           0           0  \n",
      "1           0           0           0           0  \n",
      "2           0           0           0           0  \n",
      "3           0           0           0           0  \n",
      "4           0           0           0           0  \n",
      "\n",
      "Veri seti bilgileri:\n",
      "<class 'pandas.core.frame.DataFrame'>\n",
      "RangeIndex: 391 entries, 0 to 390\n",
      "Data columns (total 20 columns):\n",
      " #   Column      Non-Null Count  Dtype \n",
      "---  ------      --------------  ----- \n",
      " 0   user_trial  391 non-null    object\n",
      " 1   timestamp   391 non-null    int64 \n",
      " 2   rawT9       391 non-null    int64 \n",
      " 3   rawT8       391 non-null    int64 \n",
      " 4   rawT7       391 non-null    int64 \n",
      " 5   rawT0       391 non-null    int64 \n",
      " 6   rawT2       391 non-null    int64 \n",
      " 7   rawT3       391 non-null    int64 \n",
      " 8   rawT6       391 non-null    int64 \n",
      " 9   rawT5       391 non-null    int64 \n",
      " 10  rawT4       391 non-null    int64 \n",
      " 11  durationT9  391 non-null    int64 \n",
      " 12  durationT8  391 non-null    int64 \n",
      " 13  durationT7  391 non-null    int64 \n",
      " 14  durationT0  391 non-null    int64 \n",
      " 15  durationT2  391 non-null    int64 \n",
      " 16  durationT3  391 non-null    int64 \n",
      " 17  durationT6  391 non-null    int64 \n",
      " 18  durationT5  391 non-null    int64 \n",
      " 19  durationT4  391 non-null    int64 \n",
      "dtypes: int64(19), object(1)\n",
      "memory usage: 61.2+ KB\n",
      "\n",
      "Veri setinin boyutu (satır, sütun):\n",
      "(391, 20)\n"
     ]
    }
   ],
   "source": [
    "# ESP32 Arduino kodundaki başlık sırasına göre doğru sütun isimlerini tanımlayalım\n",
    "column_names = [\n",
    "    \"user_trial\", \"timestamp\",\n",
    "    \"rawT9\", \"rawT8\", \"rawT7\", \"rawT0\", \"rawT2\", \"rawT3\", \"rawT6\", \"rawT5\", \"rawT4\",\n",
    "    \"durationT9\", \"durationT8\", \"durationT7\", \"durationT0\", \"durationT2\", \"durationT3\", \"durationT6\", \"durationT5\", \"durationT4\"\n",
    "]\n",
    "\n",
    "try:\n",
    "    # CSV'yi oku, ilk satırı (ESP32 başlığı) atla ve kendi sütun isimlerimizi ver.\n",
    "    df = pd.read_csv(\"veriseti4kisi.csv\", header=None, skiprows=1, names=column_names)\n",
    "    print(\"Veriseti başarıyla yüklendi ve sütun isimleri atandı.\")\n",
    "except FileNotFoundError:\n",
    "    print(\"HATA: 'veriseti.csv' dosyası bulunamadı. Lütfen dosyanın doğru klasörde olduğundan emin olun.\")\n",
    "    df = None\n",
    "except Exception as e:\n",
    "    print(f\"Veri yüklenirken bir hata oluştu: {e}\")\n",
    "    df = None\n",
    "\n",
    "if df is not None:\n",
    "    print(\"\\nVeri setinin ilk 5 satırı:\")\n",
    "    print(df.head())\n",
    "    print(\"\\nVeri seti bilgileri:\")\n",
    "    df.info()\n",
    "    print(\"\\nVeri setinin boyutu (satır, sütun):\")\n",
    "    print(df.shape)\n",
    "else:\n",
    "    print(\"\\nVeri yüklenemediği için işlem devam edemiyor.\")"
   ]
  },
  {
   "cell_type": "markdown",
   "id": "57f2043a",
   "metadata": {},
   "source": [
    "## 2. Veri Ön İşleme"
   ]
  },
  {
   "cell_type": "code",
   "execution_count": 11,
   "id": "c5bd15c2",
   "metadata": {},
   "outputs": [
    {
     "name": "stdout",
     "output_type": "stream",
     "text": [
      "'UserID' sütunu başarıyla oluşturuldu.\n",
      "\n",
      "Benzersiz UserID değerleri ve sayıları:\n",
      "UserID\n",
      "User0    116\n",
      "User1     59\n",
      "User3    128\n",
      "User6     88\n",
      "Name: count, dtype: int64\n",
      "Toplam 4 farklı gerçek kullanıcı ID'si bulundu.\n",
      "\n",
      "Özellikler (X) ilk 5 satır:\n",
      "   rawT9  rawT8  rawT7  rawT0  rawT2  rawT3  rawT6  rawT5  rawT4  durationT9  \\\n",
      "0     13     79     73     64     65     66     73     71     73         113   \n",
      "1     20     76     73     64     63     64     72     69     73         213   \n",
      "2     84     13     71     63     61     63     70     69     72           0   \n",
      "3     86     14     72     63     61     65     73     73     76           0   \n",
      "4     83     78     17     63     61     63     71     72     76           0   \n",
      "\n",
      "   durationT8  durationT7  durationT0  durationT2  durationT3  durationT6  \\\n",
      "0           0           0           0           0           0           0   \n",
      "1           0           0           0           0           0           0   \n",
      "2          43           0           0           0           0           0   \n",
      "3         143           0           0           0           0           0   \n",
      "4           0          23           0           0           0           0   \n",
      "\n",
      "   durationT5  durationT4  \n",
      "0           0           0  \n",
      "1           0           0  \n",
      "2           0           0  \n",
      "3           0           0  \n",
      "4           0           0  \n",
      "\n",
      "Özellik matrisi sütunları:\n",
      "['rawT9', 'rawT8', 'rawT7', 'rawT0', 'rawT2', 'rawT3', 'rawT6', 'rawT5', 'rawT4', 'durationT9', 'durationT8', 'durationT7', 'durationT0', 'durationT2', 'durationT3', 'durationT6', 'durationT5', 'durationT4']\n",
      "\n",
      "Özellik matrisi boyutu: (391, 18)\n",
      "\n",
      "Hedef Değişken (y) ilk 5 değer (kodlanmış):\n",
      "0    0\n",
      "1    0\n",
      "2    0\n",
      "3    0\n",
      "4    0\n",
      "Name: UserID_Encoded, dtype: int64\n",
      "Hedef vektör boyutu: (391,)\n",
      "\n",
      "Kodlanmış UserID'lerin karşılık geldiği orijinal UserID'ler:\n",
      "Kod 0: User0\n",
      "Kod 1: User1\n",
      "Kod 2: User3\n",
      "Kod 3: User6\n",
      "\n",
      "Özellik matrisinde (X) eksik veri bulunmuyor.\n"
     ]
    }
   ],
   "source": [
    "if df is not None:\n",
    "    try:\n",
    "        # 'user_trial' sütunundan sadece kullanıcı ID'sini (örn: \"User0\") ayıklayalım\n",
    "        df['UserID'] = df['user_trial'].apply(lambda x: str(x).split('.')[0])\n",
    "        print(\"'UserID' sütunu başarıyla oluşturuldu.\")\n",
    "\n",
    "        print(\"\\nBenzersiz UserID değerleri ve sayıları:\")\n",
    "        print(df['UserID'].value_counts().sort_index())\n",
    "        num_unique_users = df['UserID'].nunique()\n",
    "        print(f\"Toplam {num_unique_users} farklı gerçek kullanıcı ID'si bulundu.\")\n",
    "\n",
    "        # Gereksiz sütunları çıkaralım\n",
    "        features_to_drop = ['user_trial', 'timestamp']\n",
    "        df_processed = df.drop(columns=features_to_drop, errors='ignore')\n",
    "\n",
    "        # Hedef değişkenimizi (UserID) sayısal etiketlere dönüştürelim\n",
    "        label_encoder = LabelEncoder()\n",
    "        df_processed['UserID_Encoded'] = label_encoder.fit_transform(df_processed['UserID'])\n",
    "\n",
    "        # Özellik matrisi (X) ve hedef vektör (y) oluştur\n",
    "        y = df_processed['UserID_Encoded']\n",
    "        X = df_processed.drop(columns=['UserID', 'UserID_Encoded']) # Sadece orijinal 18 özellik kalacak\n",
    "\n",
    "        print(\"\\nÖzellikler (X) ilk 5 satır:\")\n",
    "        print(X.head())\n",
    "        print(\"\\nÖzellik matrisi sütunları:\")\n",
    "        print(X.columns.tolist())\n",
    "        print(f\"\\nÖzellik matrisi boyutu: {X.shape}\")\n",
    "\n",
    "        print(\"\\nHedef Değişken (y) ilk 5 değer (kodlanmış):\")\n",
    "        print(y.head())\n",
    "        print(f\"Hedef vektör boyutu: {y.shape}\")\n",
    "\n",
    "        print(\"\\nKodlanmış UserID'lerin karşılık geldiği orijinal UserID'ler:\")\n",
    "        for i, class_name in enumerate(label_encoder.classes_):\n",
    "            print(f\"Kod {i}: {class_name}\")\n",
    "\n",
    "        # Eksik veri kontrolü\n",
    "        if X.isnull().sum().sum() == 0:\n",
    "            print(\"\\nÖzellik matrisinde (X) eksik veri bulunmuyor.\")\n",
    "        else:\n",
    "            print(\"\\nUYARI: Özellik matrisinde (X) eksik veriler var!\")\n",
    "            print(X.isnull().sum())\n",
    "\n",
    "    except Exception as e:\n",
    "        print(f\"Veri ön işleme sırasında bir hata oluştu: {e}\")\n",
    "        X, y = None, None # Hata durumunda X ve y'yi None yap\n",
    "else:\n",
    "    print(\"DataFrame yüklenmediği için ön işleme yapılamıyor.\")"
   ]
  },
  {
   "cell_type": "markdown",
   "id": "6fedf64d",
   "metadata": {},
   "source": [
    "## 3. Veri Setini Eğitim ve Test Olarak Ayırma & Özellik Ölçeklendirme"
   ]
  },
  {
   "cell_type": "code",
   "execution_count": 12,
   "id": "1303852c",
   "metadata": {},
   "outputs": [
    {
     "name": "stdout",
     "output_type": "stream",
     "text": [
      "Eğitim seti özellikleri boyutu: (312, 18)\n",
      "Test seti özellikleri boyutu: (79, 18)\n",
      "\n",
      "Özellikler başarıyla bölündü ve ölçeklendirildi.\n",
      "Ölçeklendirilmiş eğitim verisinin ilk 2 satırı:\n",
      "[[ 5.39376618e-01  4.07468002e-01  5.62670762e-01  3.01212839e-01\n",
      "   4.89288762e-01  2.51215842e-01  2.11068928e-01 -2.89221929e-03\n",
      "  -2.72860005e+00 -3.75579202e-01 -2.50201795e-01 -2.95061028e-01\n",
      "  -1.73712223e-01 -3.30271821e-01 -2.51207170e-01 -2.22188983e-01\n",
      "  -2.35025675e-01  3.14476377e+00]\n",
      " [-2.18528188e+00  4.57070037e-01  5.18484183e-01  3.77370380e-01\n",
      "   4.89288762e-01  3.88965126e-01  2.76270419e-01  3.44174095e-01\n",
      "   9.98697002e-01 -3.05073359e-01 -2.50201795e-01 -2.95061028e-01\n",
      "  -1.73712223e-01 -3.30271821e-01 -2.51207170e-01 -2.22188983e-01\n",
      "  -2.35025675e-01 -2.22904712e-01]]\n"
     ]
    }
   ],
   "source": [
    "if 'X' in locals() and X is not None and 'y' in locals() and y is not None:\n",
    "    # Veri setini eğitim ve test setlerine ayıralım\n",
    "    X_train, X_test, y_train, y_test = train_test_split(X, y, test_size=0.2, random_state=42, stratify=y)\n",
    "\n",
    "    print(\"Eğitim seti özellikleri boyutu:\", X_train.shape)\n",
    "    print(\"Test seti özellikleri boyutu:\", X_test.shape)\n",
    "\n",
    "    # Özellikleri ölçeklendirelim\n",
    "    scaler = StandardScaler()\n",
    "    X_train_scaled = scaler.fit_transform(X_train)\n",
    "    X_test_scaled = scaler.transform(X_test)\n",
    "\n",
    "    print(\"\\nÖzellikler başarıyla bölündü ve ölçeklendirildi.\")\n",
    "    print(\"Ölçeklendirilmiş eğitim verisinin ilk 2 satırı:\")\n",
    "    print(X_train_scaled[:2])\n",
    "else:\n",
    "    print(\"X veya y DataFrame'leri oluşturulmadığı için bu adım atlanıyor.\")"
   ]
  },
  {
   "cell_type": "markdown",
   "id": "e099293f",
   "metadata": {},
   "source": [
    "## 4. Random Forest Modelinin Eğitilmesi ve Değerlendirilmesi"
   ]
  },
  {
   "cell_type": "code",
   "execution_count": 13,
   "id": "ab6fe7bc",
   "metadata": {},
   "outputs": [
    {
     "name": "stdout",
     "output_type": "stream",
     "text": [
      "--- Random Forest Modeli ---\n",
      "Random Forest modeli eğitiliyor...\n",
      "Model eğitimi tamamlandı.\n",
      "\n",
      "Random Forest Doğruluk (Accuracy): 0.5823\n",
      "\n",
      "Random Forest Sınıflandırma Raporu:\n",
      "              precision    recall  f1-score   support\n",
      "\n",
      "       User0       0.46      0.74      0.57        23\n",
      "       User1       0.75      0.25      0.38        12\n",
      "       User3       0.68      0.58      0.62        26\n",
      "       User6       0.69      0.61      0.65        18\n",
      "\n",
      "    accuracy                           0.58        79\n",
      "   macro avg       0.64      0.54      0.55        79\n",
      "weighted avg       0.63      0.58      0.58        79\n",
      "\n"
     ]
    },
    {
     "data": {
      "image/png": "[encoded data removed]",
      "text/plain": [
       "<Figure size 1200x1000 with 2 Axes>"
      ]
     },
     "metadata": {},
     "output_type": "display_data"
    }
   ],
   "source": [
    "if 'X_train_scaled' in locals():\n",
    "    print(\"--- Random Forest Modeli ---\")\n",
    "\n",
    "    # Random Forest modelini oluştur\n",
    "    # random_state: tekrarlanabilirlik için\n",
    "    # n_jobs=-1: tüm işlemcileri kullan\n",
    "    # n_estimators: ormandaki ağaç sayısı (isteğe bağlı olarak ayarlanabilir)\n",
    "    rf_model = RandomForestClassifier(random_state=42, n_jobs=-1, n_estimators=100)\n",
    "\n",
    "    # Modeli eğit\n",
    "    print(\"Random Forest modeli eğitiliyor...\")\n",
    "    rf_model.fit(X_train_scaled, y_train)\n",
    "    print(\"Model eğitimi tamamlandı.\")\n",
    "\n",
    "    # Test seti üzerinde tahmin yap\n",
    "    y_pred_rf = rf_model.predict(X_test_scaled)\n",
    "\n",
    "    # Performansı değerlendir\n",
    "    accuracy_rf = accuracy_score(y_test, y_pred_rf)\n",
    "    report_rf = classification_report(y_test, y_pred_rf, target_names=label_encoder.classes_, zero_division=0)\n",
    "\n",
    "    print(f\"\\nRandom Forest Doğruluk (Accuracy): {accuracy_rf:.4f}\")\n",
    "    print(\"\\nRandom Forest Sınıflandırma Raporu:\")\n",
    "    print(report_rf)\n",
    "\n",
    "    # Karmaşıklık Matrisi (Confusion Matrix)\n",
    "    cm_rf = confusion_matrix(y_test, y_pred_rf)\n",
    "    plt.figure(figsize=(12, 10)) # 20 sınıf için matris boyutunu ayarlayalım\n",
    "    sns.heatmap(cm_rf, annot=True, fmt='d', cmap='Greens', # Renk paletini değiştirebilirsin (örn: 'Blues')\n",
    "                xticklabels=label_encoder.classes_, yticklabels=label_encoder.classes_)\n",
    "    plt.title(f'Karmaşıklık Matrisi - Random Forest')\n",
    "    plt.xlabel('Tahmin Edilen Etiket')\n",
    "    plt.ylabel('Gerçek Etiket')\n",
    "    plt.xticks(rotation=45, ha='right')\n",
    "    plt.yticks(rotation=0)\n",
    "    plt.tight_layout()\n",
    "    plt.show()\n",
    "else:\n",
    "    print(\"Eğitim verileri hazırlanmadığı için model eğitimi atlanıyor.\")"
   ]
  },
  {
   "cell_type": "markdown",
   "id": "12375256",
   "metadata": {},
   "source": [
    "## 5. Modelin, Ölçekleyicinin ve Etiket Kodlayıcının Kaydedilmesi"
   ]
  },
  {
   "cell_type": "code",
   "execution_count": 14,
   "id": "044102ee",
   "metadata": {},
   "outputs": [
    {
     "name": "stdout",
     "output_type": "stream",
     "text": [
      "Random Forest modeli 'randomforest_swipe_model.joblib' olarak başarıyla kaydedildi.\n",
      "StandardScaler nesnesi 'scaler.joblib' olarak başarıyla kaydedildi.\n",
      "LabelEncoder nesnesi 'label_encoder.joblib' olarak başarıyla kaydedildi.\n",
      "\n",
      "Kaydedilen dosyalar Jupyter Notebook'un çalıştığı klasörde oluşturulacaktır.\n",
      "Bu dosyaları BeagleBone Black'e aktarmanız gerekecek.\n"
     ]
    }
   ],
   "source": [
    "import joblib\n",
    "\n",
    "if 'rf_model' in locals() and 'scaler' in locals() and 'label_encoder' in locals():\n",
    "    try:\n",
    "        # Modelin kaydedileceği dosya adı\n",
    "        model_filename = 'randomforest_swipe_model.joblib' # Dosya adını güncelledik\n",
    "        joblib.dump(rf_model, model_filename)\n",
    "        print(f\"Random Forest modeli '{model_filename}' olarak başarıyla kaydedildi.\")\n",
    "\n",
    "        # StandardScaler nesnesinin kaydedileceği dosya adı\n",
    "        scaler_filename = 'scaler.joblib' # Bu aynı kalabilir\n",
    "        joblib.dump(scaler, scaler_filename)\n",
    "        print(f\"StandardScaler nesnesi '{scaler_filename}' olarak başarıyla kaydedildi.\")\n",
    "\n",
    "        # LabelEncoder nesnesinin kaydedileceği dosya adı\n",
    "        encoder_filename = 'label_encoder.joblib' # Bu da aynı kalabilir\n",
    "        joblib.dump(label_encoder, encoder_filename)\n",
    "        print(f\"LabelEncoder nesnesi '{encoder_filename}' olarak başarıyla kaydedildi.\")\n",
    "\n",
    "        print(\"\\nKaydedilen dosyalar Jupyter Notebook'un çalıştığı klasörde oluşturulacaktır.\")\n",
    "        print(\"Bu dosyaları BeagleBone Black'e aktarmanız gerekecek.\")\n",
    "\n",
    "    except Exception as e:\n",
    "        print(f\"Dosyalar kaydedilirken bir hata oluştu: {e}\")\n",
    "else:\n",
    "    print(\"Model, scaler veya label_encoder eğitilmediği/oluşturulmadığı için kaydetme işlemi yapılamadı.\")\n",
    "    print(\"Lütfen önceki hücrelerin doğru çalıştığından emin olun.\")"
   ]
  },
  {
   "cell_type": "code",
   "execution_count": 15,
   "id": "c1d3f74f",
   "metadata": {},
   "outputs": [
    {
     "name": "stdout",
     "output_type": "stream",
     "text": [
      "Tahmin edilen UserID kodu: 2, UserID etiketi: User3\n"
     ]
    }
   ],
   "source": [
    "# Yeni örneği uygun sütun isimleriyle DataFrame olarak oluştur\n",
    "sample_data = {\n",
    "    'rawT9': [86], 'rawT8': [80], 'rawT7': [74], 'rawT0': [13], 'rawT2': [62], 'rawT3': [64],\n",
    "    'rawT6': [72], 'rawT5': [71], 'rawT4': [102], 'durationT9': [0], 'durationT8': [0],\n",
    "    'durationT7': [0], 'durationT0': [53], 'durationT2': [0], 'durationT3': [0],\n",
    "    'durationT6': [0], 'durationT5': [0], 'durationT4': [0]\n",
    "}\n",
    "sample_df = pd.DataFrame(sample_data)\n",
    "\n",
    "# Ölçekleme\n",
    "sample_scaled = scaler.transform(sample_df)\n",
    "\n",
    "# Tahmin\n",
    "pred_code = rf_model.predict(sample_scaled)[0]\n",
    "pred_label = label_encoder.inverse_transform([pred_code])[0]\n",
    "print(f\"Tahmin edilen UserID kodu: {pred_code}, UserID etiketi: {pred_label}\")"
   ]
  },
  {
   "cell_type": "code",
   "execution_count": 16,
   "id": "fad74938",
   "metadata": {},
   "outputs": [
    {
     "name": "stdout",
     "output_type": "stream",
     "text": [
      "Tahmin edilen UserID kodu: 3, UserID etiketi: User6\n"
     ]
    }
   ],
   "source": [
    "# Yeni örnek veriyi uygun sütun isimleriyle oluştur\n",
    "new_sample = {\n",
    "    'rawT9': [83], 'rawT8': [15], 'rawT7': [76], 'rawT0': [62], 'rawT2': [60], 'rawT3': [65],\n",
    "    'rawT6': [77], 'rawT5': [75], 'rawT4': [101], 'durationT9': [0], 'durationT8': [23],\n",
    "    'durationT7': [0], 'durationT0': [0], 'durationT2': [0], 'durationT3': [0],\n",
    "    'durationT6': [0], 'durationT5': [0], 'durationT4': [0]\n",
    "}\n",
    "new_sample_df = pd.DataFrame(new_sample)\n",
    "\n",
    "# Ölçekleme\n",
    "new_sample_scaled = scaler.transform(new_sample_df)\n",
    "\n",
    "# Tahmin\n",
    "new_pred_code = rf_model.predict(new_sample_scaled)[0]\n",
    "new_pred_label = label_encoder.inverse_transform([new_pred_code])[0]\n",
    "print(f\"Tahmin edilen UserID kodu: {new_pred_code}, UserID etiketi: {new_pred_label}\")"
   ]
  },
  {
   "cell_type": "code",
   "execution_count": null,
   "id": "16976770",
   "metadata": {},
   "outputs": [],
   "source": []
  }
 ],
 "metadata": {
  "kernelspec": {
   "display_name": "Python 3",
   "language": "python",
   "name": "python3"
  },
  "language_info": {
   "codemirror_mode": {
    "name": "ipython",
    "version": 3
   },
   "file_extension": ".py",
   "mimetype": "text/x-python",
   "name": "python",
   "nbconvert_exporter": "python",
   "pygments_lexer": "ipython3",
   "version": "3.13.2"
  }
 },
 "nbformat": 4,
 "nbformat_minor": 5
}
